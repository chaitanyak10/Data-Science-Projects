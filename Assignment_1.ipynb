{
 "cells": [
  {
   "cell_type": "markdown",
   "id": "6e692738",
   "metadata": {},
   "source": [
    "1. In the below elements which of them are values or an expression? eg:- values can be integer or string and expressions will be mathematical operators.\n",
    "* \n",
    "'hello'\n",
    "-87.8\n",
    "- \n",
    "/ \n",
    "+\t\n",
    "6jupyter \n"
   ]
  },
  {
   "cell_type": "code",
   "execution_count": 1,
   "id": "a40c885e",
   "metadata": {},
   "outputs": [
    {
     "name": "stdout",
     "output_type": "stream",
     "text": [
      "The answer is 'hello', 87.8\n"
     ]
    }
   ],
   "source": [
    "print(\"The answer is 'hello', 87.8\")"
   ]
  },
  {
   "cell_type": "markdown",
   "id": "b24859da",
   "metadata": {},
   "source": [
    "2. What is the difference between string and variable?"
   ]
  },
  {
   "cell_type": "code",
   "execution_count": 2,
   "id": "44b2ead1",
   "metadata": {},
   "outputs": [
    {
     "name": "stdout",
     "output_type": "stream",
     "text": [
      "String is a datatype while variable is an assignment which can be string, int, decimal, float, etc.\n"
     ]
    }
   ],
   "source": [
    "print(\"String is a datatype while variable is an assignment which can be string, int, decimal, float, etc.\")"
   ]
  },
  {
   "cell_type": "markdown",
   "id": "91d375c6",
   "metadata": {},
   "source": [
    "3. Describe three different data types."
   ]
  },
  {
   "cell_type": "code",
   "execution_count": 3,
   "id": "0ce91e3c",
   "metadata": {},
   "outputs": [
    {
     "name": "stdout",
     "output_type": "stream",
     "text": [
      "int = integer which is a whole number like 1, 2\n",
      "boolen = True or False\n",
      "float = contains decimal point like 1.0,2.2\n"
     ]
    }
   ],
   "source": [
    "print(\"int = integer which is a whole number like 1, 2\\nboolen = True or False\\nfloat = contains decimal point like 1.0, 2.2\")"
   ]
  },
  {
   "cell_type": "markdown",
   "id": "86d8fb2c",
   "metadata": {},
   "source": [
    "4. What is an expression made up of? What do all expressions do?"
   ]
  },
  {
   "cell_type": "code",
   "execution_count": 32,
   "id": "17055b6b",
   "metadata": {},
   "outputs": [
    {
     "name": "stdout",
     "output_type": "stream",
     "text": [
      "An expression is a combination of operators and operands that is interpreted to produce some other value\n"
     ]
    }
   ],
   "source": [
    "print(\"An expression is a combination of operators and operands that is interpreted to produce some other value\")"
   ]
  },
  {
   "cell_type": "markdown",
   "id": "17e436ee",
   "metadata": {},
   "source": [
    "5. This assignment statements, like spam = 10. What is the difference between an expression and a statement?"
   ]
  },
  {
   "cell_type": "code",
   "execution_count": 34,
   "id": "8fb98885",
   "metadata": {},
   "outputs": [
    {
     "name": "stdout",
     "output_type": "stream",
     "text": [
      "Expressions only contain identifiers, literals and operators, where operators include arithmetic and boolean operators, the function call operator () the subscription operator [] and similar, and can be reduced to some kind of 'value', which can be any Python object.Statements on the other hand are everything that can make up a line (or several lines) of Python code. Note that expressions are statements as well. \n"
     ]
    }
   ],
   "source": [
    "print(\"Expressions only contain identifiers, literals and operators, where operators include arithmetic and boolean operators, the function call operator () the subscription operator [] and similar, and can be reduced to some kind of 'value', which can be any Python object.Statements on the other hand are everything that can make up a line (or several lines) of Python code. Note that expressions are statements as well. \")"
   ]
  },
  {
   "cell_type": "markdown",
   "id": "40e8ac85",
   "metadata": {},
   "source": [
    "6. After running the following code, what does the variable bacon contain?\n",
    "bacon = 22\n",
    "bacon + 1"
   ]
  },
  {
   "cell_type": "code",
   "execution_count": 6,
   "id": "cc0144e0",
   "metadata": {},
   "outputs": [],
   "source": [
    "bacon = 22"
   ]
  },
  {
   "cell_type": "code",
   "execution_count": 7,
   "id": "526cffd5",
   "metadata": {},
   "outputs": [
    {
     "data": {
      "text/plain": [
       "22"
      ]
     },
     "execution_count": 7,
     "metadata": {},
     "output_type": "execute_result"
    }
   ],
   "source": [
    "bacon"
   ]
  },
  {
   "cell_type": "code",
   "execution_count": 8,
   "id": "ba4c26ae",
   "metadata": {},
   "outputs": [
    {
     "data": {
      "text/plain": [
       "23"
      ]
     },
     "execution_count": 8,
     "metadata": {},
     "output_type": "execute_result"
    }
   ],
   "source": [
    "bacon +1"
   ]
  },
  {
   "cell_type": "code",
   "execution_count": 9,
   "id": "7be87b28",
   "metadata": {},
   "outputs": [
    {
     "name": "stdout",
     "output_type": "stream",
     "text": [
      "Answer is 23\n"
     ]
    }
   ],
   "source": [
    "print(\"Answer is 23\")"
   ]
  },
  {
   "cell_type": "markdown",
   "id": "1a348913",
   "metadata": {},
   "source": [
    "7. What should the values of the following two terms be?\n",
    "'spam' + 'spamspam'\n",
    "'spam' * 3"
   ]
  },
  {
   "cell_type": "code",
   "execution_count": 10,
   "id": "80f1df3f",
   "metadata": {},
   "outputs": [
    {
     "data": {
      "text/plain": [
       "'spamspamspam'"
      ]
     },
     "execution_count": 10,
     "metadata": {},
     "output_type": "execute_result"
    }
   ],
   "source": [
    "'spam' + 'spamspam'"
   ]
  },
  {
   "cell_type": "code",
   "execution_count": 11,
   "id": "3a1b3521",
   "metadata": {},
   "outputs": [
    {
     "data": {
      "text/plain": [
       "'spamspamspam'"
      ]
     },
     "execution_count": 11,
     "metadata": {},
     "output_type": "execute_result"
    }
   ],
   "source": [
    "'spam' * 3"
   ]
  },
  {
   "cell_type": "markdown",
   "id": "367eb679",
   "metadata": {},
   "source": [
    "8. Why is eggs a valid variable name while 100 is invalid?"
   ]
  },
  {
   "cell_type": "code",
   "execution_count": 13,
   "id": "b672497c",
   "metadata": {},
   "outputs": [],
   "source": [
    "eggs = 100"
   ]
  },
  {
   "cell_type": "code",
   "execution_count": 14,
   "id": "3dcfe9a9",
   "metadata": {},
   "outputs": [
    {
     "ename": "SyntaxError",
     "evalue": "cannot assign to literal (Temp/ipykernel_3656/2811739266.py, line 1)",
     "output_type": "error",
     "traceback": [
      "\u001b[1;36m  File \u001b[1;32m\"C:\\Users\\hp\\AppData\\Local\\Temp/ipykernel_3656/2811739266.py\"\u001b[1;36m, line \u001b[1;32m1\u001b[0m\n\u001b[1;33m    100 = 100\u001b[0m\n\u001b[1;37m    ^\u001b[0m\n\u001b[1;31mSyntaxError\u001b[0m\u001b[1;31m:\u001b[0m cannot assign to literal\n"
     ]
    }
   ],
   "source": [
    "100 = 100"
   ]
  },
  {
   "cell_type": "code",
   "execution_count": 15,
   "id": "97fd9496",
   "metadata": {},
   "outputs": [
    {
     "name": "stdout",
     "output_type": "stream",
     "text": [
      "Because we cannot assign a interger to literal\n"
     ]
    }
   ],
   "source": [
    "print(\"Because we cannot assign a interger to literal\")"
   ]
  },
  {
   "cell_type": "markdown",
   "id": "4dc99503",
   "metadata": {},
   "source": [
    "9. What three functions can be used to get the integer, floating-point number, or string version of a value?"
   ]
  },
  {
   "cell_type": "code",
   "execution_count": 20,
   "id": "d55c3dbd",
   "metadata": {},
   "outputs": [],
   "source": [
    "my_value = '1'"
   ]
  },
  {
   "cell_type": "code",
   "execution_count": 23,
   "id": "d38e4f55",
   "metadata": {},
   "outputs": [
    {
     "data": {
      "text/plain": [
       "1"
      ]
     },
     "execution_count": 23,
     "metadata": {},
     "output_type": "execute_result"
    }
   ],
   "source": [
    "int(my_value)"
   ]
  },
  {
   "cell_type": "code",
   "execution_count": 24,
   "id": "225eb6d3",
   "metadata": {},
   "outputs": [
    {
     "data": {
      "text/plain": [
       "1.0"
      ]
     },
     "execution_count": 24,
     "metadata": {},
     "output_type": "execute_result"
    }
   ],
   "source": [
    "float(my_value)"
   ]
  },
  {
   "cell_type": "code",
   "execution_count": 25,
   "id": "4cf65263",
   "metadata": {},
   "outputs": [
    {
     "data": {
      "text/plain": [
       "'1'"
      ]
     },
     "execution_count": 25,
     "metadata": {},
     "output_type": "execute_result"
    }
   ],
   "source": [
    "str(my_value)"
   ]
  },
  {
   "cell_type": "code",
   "execution_count": 26,
   "id": "7cd7070d",
   "metadata": {},
   "outputs": [
    {
     "name": "stdout",
     "output_type": "stream",
     "text": [
      "Answer is built-in functions like int, float, str\n"
     ]
    }
   ],
   "source": [
    "print(\"Answer is built-in functions like int, float, str\")"
   ]
  },
  {
   "cell_type": "markdown",
   "id": "c8e1437b",
   "metadata": {},
   "source": [
    "10. Why does this expression cause an error? How can you fix it?\n",
    "'I have eaten ' + 99 + ' burritos.'\n"
   ]
  },
  {
   "cell_type": "code",
   "execution_count": 27,
   "id": "2097b7eb",
   "metadata": {},
   "outputs": [
    {
     "ename": "TypeError",
     "evalue": "can only concatenate str (not \"int\") to str",
     "output_type": "error",
     "traceback": [
      "\u001b[1;31m---------------------------------------------------------------------------\u001b[0m",
      "\u001b[1;31mTypeError\u001b[0m                                 Traceback (most recent call last)",
      "\u001b[1;32m~\\AppData\\Local\\Temp/ipykernel_3656/2733022945.py\u001b[0m in \u001b[0;36m<module>\u001b[1;34m\u001b[0m\n\u001b[1;32m----> 1\u001b[1;33m \u001b[1;34m'I have eaten'\u001b[0m \u001b[1;33m+\u001b[0m \u001b[1;36m99\u001b[0m \u001b[1;33m+\u001b[0m \u001b[1;34m'burritos'\u001b[0m\u001b[1;33m\u001b[0m\u001b[1;33m\u001b[0m\u001b[0m\n\u001b[0m",
      "\u001b[1;31mTypeError\u001b[0m: can only concatenate str (not \"int\") to str"
     ]
    }
   ],
   "source": [
    "'I have eaten' + 99 + 'burritos'"
   ]
  },
  {
   "cell_type": "code",
   "execution_count": 28,
   "id": "be197a40",
   "metadata": {},
   "outputs": [
    {
     "name": "stdout",
     "output_type": "stream",
     "text": [
      "Answer is we cannot concatenate different data types.. in this example it is trying to concat strings and int\n"
     ]
    }
   ],
   "source": [
    "print(\"Answer is we cannot concatenate different data types.. in this example it is trying to concat strings and int\")"
   ]
  },
  {
   "cell_type": "code",
   "execution_count": 30,
   "id": "6521512f",
   "metadata": {},
   "outputs": [
    {
     "data": {
      "text/plain": [
       "'I have eaten 99 burritos'"
      ]
     },
     "execution_count": 30,
     "metadata": {},
     "output_type": "execute_result"
    }
   ],
   "source": [
    "'I have eaten ' + str(99) + ' burritos'"
   ]
  },
  {
   "cell_type": "code",
   "execution_count": 31,
   "id": "1ada41f9",
   "metadata": {},
   "outputs": [
    {
     "name": "stdout",
     "output_type": "stream",
     "text": [
      "Above is the solution to fix it\n"
     ]
    }
   ],
   "source": [
    "print(\"Above is the solution to fix it\")"
   ]
  },
  {
   "cell_type": "code",
   "execution_count": null,
   "id": "a9d62b14",
   "metadata": {},
   "outputs": [],
   "source": []
  }
 ],
 "metadata": {
  "kernelspec": {
   "display_name": "Python 3 (ipykernel)",
   "language": "python",
   "name": "python3"
  },
  "language_info": {
   "codemirror_mode": {
    "name": "ipython",
    "version": 3
   },
   "file_extension": ".py",
   "mimetype": "text/x-python",
   "name": "python",
   "nbconvert_exporter": "python",
   "pygments_lexer": "ipython3",
   "version": "3.9.7"
  }
 },
 "nbformat": 4,
 "nbformat_minor": 5
}

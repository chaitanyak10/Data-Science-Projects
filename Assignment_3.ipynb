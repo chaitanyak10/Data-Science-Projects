{
 "cells": [
  {
   "cell_type": "markdown",
   "id": "9f4d4143",
   "metadata": {},
   "source": [
    "# 1. Why are functions advantageous to have in your programs?"
   ]
  },
  {
   "cell_type": "code",
   "execution_count": 1,
   "id": "f58bbb4a",
   "metadata": {},
   "outputs": [
    {
     "name": "stdout",
     "output_type": "stream",
     "text": [
      "Functions make code more readable, reusable, efficient, maintainable and extensible\n"
     ]
    }
   ],
   "source": [
    "print(\"Functions make code more readable, reusable, efficient, maintainable and extensible\")"
   ]
  },
  {
   "cell_type": "markdown",
   "id": "d3710807",
   "metadata": {},
   "source": [
    "# 2. When does the code in a function run: when it's specified or when it's called?"
   ]
  },
  {
   "cell_type": "code",
   "execution_count": 2,
   "id": "cdb3b266",
   "metadata": {},
   "outputs": [
    {
     "name": "stdout",
     "output_type": "stream",
     "text": [
      "Function runs when it's called\n"
     ]
    }
   ],
   "source": [
    "print(\"Function runs when it's called\")"
   ]
  },
  {
   "cell_type": "markdown",
   "id": "145df183",
   "metadata": {},
   "source": [
    "# 3. What statement creates a function?"
   ]
  },
  {
   "cell_type": "code",
   "execution_count": 3,
   "id": "a76f3772",
   "metadata": {},
   "outputs": [
    {
     "name": "stdout",
     "output_type": "stream",
     "text": [
      "The reserved keyword def creates a function.\n",
      "Example : def add(a,b)\n",
      "return a + b\n"
     ]
    }
   ],
   "source": [
    "print(\"The reserved keyword def creates a function.\\nExample : def add(a,b)\\nreturn a + b\")"
   ]
  },
  {
   "cell_type": "markdown",
   "id": "203a1b51",
   "metadata": {},
   "source": [
    "# 4. What is the difference between a function and a function call?"
   ]
  },
  {
   "cell_type": "code",
   "execution_count": 4,
   "id": "9247dedc",
   "metadata": {},
   "outputs": [
    {
     "name": "stdout",
     "output_type": "stream",
     "text": [
      "Function is a block of code which can be used to reduce the redunacy of writing the logic again and again,\n",
      "while function call means calling or invoking that function\n"
     ]
    }
   ],
   "source": [
    "print(\"Function is a block of code which can be used to reduce the redunacy of writing the logic again and again,\\nwhile function call means calling or invoking that function\")"
   ]
  },
  {
   "cell_type": "markdown",
   "id": "f3a04ce1",
   "metadata": {},
   "source": [
    "# 5. How many global scopes are there in a Python program? How many local scopes?"
   ]
  },
  {
   "cell_type": "code",
   "execution_count": 5,
   "id": "d53725e7",
   "metadata": {},
   "outputs": [
    {
     "name": "stdout",
     "output_type": "stream",
     "text": [
      "There's only one global Python scope per program execution,while local scopes can be n number\n"
     ]
    }
   ],
   "source": [
    "print(\"There's only one global Python scope per program execution,while local scopes can be n number\")"
   ]
  },
  {
   "cell_type": "markdown",
   "id": "5fd433c4",
   "metadata": {},
   "source": [
    "# 6. What happens to variables in a local scope when the function call returns?"
   ]
  },
  {
   "cell_type": "code",
   "execution_count": 10,
   "id": "8d7f53d2",
   "metadata": {},
   "outputs": [
    {
     "name": "stdout",
     "output_type": "stream",
     "text": [
      "The Python return statement is a special statement that you can use inside a function or method to send the function’s result back to the caller. A return statement consists of the return keyword followed by an optional return value.\n"
     ]
    }
   ],
   "source": [
    "print(\"The Python return statement is a special statement that you can use inside a function or method to send the function’s result back to the caller. A return statement consists of the return keyword followed by an optional return value.\")"
   ]
  },
  {
   "cell_type": "markdown",
   "id": "8c8359d6",
   "metadata": {},
   "source": [
    "7. What is the concept of a return value? Is it possible to have a return value in an expression?\n"
   ]
  },
  {
   "cell_type": "code",
   "execution_count": 9,
   "id": "413d34bf",
   "metadata": {},
   "outputs": [
    {
     "name": "stdout",
     "output_type": "stream",
     "text": [
      "The Python return statement is a special statement that you can use inside a function or method to send the function’s result back to the caller. A return statement consists of the return keyword followed by an optional return value.\n"
     ]
    }
   ],
   "source": [
    "print(\"The Python return statement is a special statement that you can use inside a function or method to send the function’s result back to the caller. A return statement consists of the return keyword followed by an optional return value.\")"
   ]
  },
  {
   "cell_type": "markdown",
   "id": "93e8e8e7",
   "metadata": {},
   "source": [
    "8. If a function does not have a return statement, what is the return value of a call to that function?\n"
   ]
  },
  {
   "cell_type": "code",
   "execution_count": 8,
   "id": "0bac906a",
   "metadata": {},
   "outputs": [
    {
     "name": "stdout",
     "output_type": "stream",
     "text": [
      "NoneType\n"
     ]
    }
   ],
   "source": [
    "print(\"NoneType\")"
   ]
  },
  {
   "cell_type": "code",
   "execution_count": 5,
   "id": "e47b70ff",
   "metadata": {},
   "outputs": [],
   "source": [
    "def test_fun(a,b):\n",
    "    a + b"
   ]
  },
  {
   "cell_type": "code",
   "execution_count": 6,
   "id": "583d2e6d",
   "metadata": {},
   "outputs": [],
   "source": [
    "test_fun(1,1)"
   ]
  },
  {
   "cell_type": "code",
   "execution_count": 7,
   "id": "e143fb63",
   "metadata": {},
   "outputs": [
    {
     "data": {
      "text/plain": [
       "NoneType"
      ]
     },
     "execution_count": 7,
     "metadata": {},
     "output_type": "execute_result"
    }
   ],
   "source": [
    "type(test_fun(1,1))"
   ]
  },
  {
   "cell_type": "markdown",
   "id": "4b84666f",
   "metadata": {},
   "source": [
    "9. How do you make a function variable refer to the global variable?\n"
   ]
  },
  {
   "cell_type": "code",
   "execution_count": 3,
   "id": "ffac2ab2",
   "metadata": {},
   "outputs": [
    {
     "name": "stdout",
     "output_type": "stream",
     "text": [
      "use the global keyword to declare which variables are global.\n"
     ]
    }
   ],
   "source": [
    "print(\"use the global keyword to declare which variables are global.\")"
   ]
  },
  {
   "cell_type": "markdown",
   "id": "9feee162",
   "metadata": {},
   "source": [
    "10. What is the data type of None?\n"
   ]
  },
  {
   "cell_type": "code",
   "execution_count": 10,
   "id": "32ae284f",
   "metadata": {},
   "outputs": [
    {
     "data": {
      "text/plain": [
       "NoneType"
      ]
     },
     "execution_count": 10,
     "metadata": {},
     "output_type": "execute_result"
    }
   ],
   "source": [
    "type(None)"
   ]
  },
  {
   "cell_type": "code",
   "execution_count": 17,
   "id": "8492197f",
   "metadata": {},
   "outputs": [
    {
     "name": "stdout",
     "output_type": "stream",
     "text": [
      "The data type of None is \"NoneType\"\n"
     ]
    }
   ],
   "source": [
    "print('The data type of None is \"NoneType\"')"
   ]
  },
  {
   "cell_type": "markdown",
   "id": "4a70d10d",
   "metadata": {},
   "source": [
    "11. What does the sentence import areallyourpetsnamederic do?\n"
   ]
  },
  {
   "cell_type": "code",
   "execution_count": 1,
   "id": "f9478fa2",
   "metadata": {},
   "outputs": [
    {
     "name": "stdout",
     "output_type": "stream",
     "text": [
      "Note: you may need to restart the kernel to use updated packages.\n"
     ]
    },
    {
     "name": "stderr",
     "output_type": "stream",
     "text": [
      "ERROR: Could not find a version that satisfies the requirement areallyourpetsnamederic (from versions: none)\n",
      "ERROR: No matching distribution found for areallyourpetsnamederic\n"
     ]
    }
   ],
   "source": [
    "pip install areallyourpetsnamederic"
   ]
  },
  {
   "cell_type": "code",
   "execution_count": 11,
   "id": "72d2bc0f",
   "metadata": {},
   "outputs": [
    {
     "ename": "ModuleNotFoundError",
     "evalue": "No module named 'areallyourpetsnamederic'",
     "output_type": "error",
     "traceback": [
      "\u001b[1;31m---------------------------------------------------------------------------\u001b[0m",
      "\u001b[1;31mModuleNotFoundError\u001b[0m                       Traceback (most recent call last)",
      "\u001b[1;32m~\\AppData\\Local\\Temp/ipykernel_10460/51184242.py\u001b[0m in \u001b[0;36m<module>\u001b[1;34m\u001b[0m\n\u001b[1;32m----> 1\u001b[1;33m \u001b[1;32mimport\u001b[0m \u001b[0mareallyourpetsnamederic\u001b[0m\u001b[1;33m\u001b[0m\u001b[1;33m\u001b[0m\u001b[0m\n\u001b[0m",
      "\u001b[1;31mModuleNotFoundError\u001b[0m: No module named 'areallyourpetsnamederic'"
     ]
    }
   ],
   "source": [
    "import areallyourpetsnamederic"
   ]
  },
  {
   "cell_type": "code",
   "execution_count": 11,
   "id": "87567740",
   "metadata": {},
   "outputs": [
    {
     "name": "stdout",
     "output_type": "stream",
     "text": [
      "import statement imports a module named areallyourpetsnamederic.\n"
     ]
    }
   ],
   "source": [
    "print(\"import statement imports a module named areallyourpetsnamederic.\")"
   ]
  },
  {
   "cell_type": "markdown",
   "id": "c581a6f4",
   "metadata": {},
   "source": [
    "12. If you had a bacon() feature in a spam module, what would you call it after importing spam?"
   ]
  },
  {
   "cell_type": "code",
   "execution_count": 2,
   "id": "78728798",
   "metadata": {},
   "outputs": [
    {
     "name": "stdout",
     "output_type": "stream",
     "text": [
      "It will be called as a function\n"
     ]
    }
   ],
   "source": [
    "print(\"It will be called as a function\")"
   ]
  },
  {
   "cell_type": "markdown",
   "id": "45bc7585",
   "metadata": {},
   "source": [
    "13. What can you do to save a programme from crashing if it encounters an error?\n"
   ]
  },
  {
   "cell_type": "code",
   "execution_count": 1,
   "id": "25bd39b2",
   "metadata": {},
   "outputs": [
    {
     "name": "stdout",
     "output_type": "stream",
     "text": [
      "Use error handling as  error handling can be used to notify the user of why the error occurred and gracefully exit the process that caused the error.\n"
     ]
    }
   ],
   "source": [
    "print(\"Use error handling as  error handling can be used to notify the user of why the error occurred and gracefully exit the process that caused the error.\")"
   ]
  },
  {
   "cell_type": "markdown",
   "id": "358b30fb",
   "metadata": {},
   "source": [
    "14. What is the purpose of the try clause? What is the purpose of the except clause?\n"
   ]
  },
  {
   "cell_type": "code",
   "execution_count": 15,
   "id": "824a0f5c",
   "metadata": {},
   "outputs": [
    {
     "name": "stdout",
     "output_type": "stream",
     "text": [
      "try and except clause are used for exception handling purposes\n"
     ]
    }
   ],
   "source": [
    "print(\"try and except clause are used for exception handling purposes\")"
   ]
  },
  {
   "cell_type": "code",
   "execution_count": null,
   "id": "dc299fdf",
   "metadata": {},
   "outputs": [],
   "source": []
  }
 ],
 "metadata": {
  "kernelspec": {
   "display_name": "Python 3 (ipykernel)",
   "language": "python",
   "name": "python3"
  },
  "language_info": {
   "codemirror_mode": {
    "name": "ipython",
    "version": 3
   },
   "file_extension": ".py",
   "mimetype": "text/x-python",
   "name": "python",
   "nbconvert_exporter": "python",
   "pygments_lexer": "ipython3",
   "version": "3.9.7"
  }
 },
 "nbformat": 4,
 "nbformat_minor": 5
}

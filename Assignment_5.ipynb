{
 "cells": [
  {
   "cell_type": "markdown",
   "id": "12e42483",
   "metadata": {},
   "source": [
    "# 1. What does an empty dictionary's code look like?"
   ]
  },
  {
   "cell_type": "code",
   "execution_count": 1,
   "id": "25c8f841",
   "metadata": {},
   "outputs": [],
   "source": [
    "my_dict = {}"
   ]
  },
  {
   "cell_type": "code",
   "execution_count": 2,
   "id": "95c8d424",
   "metadata": {},
   "outputs": [
    {
     "data": {
      "text/plain": [
       "dict"
      ]
     },
     "execution_count": 2,
     "metadata": {},
     "output_type": "execute_result"
    }
   ],
   "source": [
    "type(my_dict)"
   ]
  },
  {
   "cell_type": "markdown",
   "id": "049a76d7",
   "metadata": {},
   "source": [
    "# 2. What is the value of a dictionary value with the key 'foo' and the value 42?"
   ]
  },
  {
   "cell_type": "code",
   "execution_count": 3,
   "id": "ad727bae",
   "metadata": {},
   "outputs": [],
   "source": [
    "my_dict = {'foo':42}"
   ]
  },
  {
   "cell_type": "code",
   "execution_count": 5,
   "id": "680214c9",
   "metadata": {},
   "outputs": [
    {
     "data": {
      "text/plain": [
       "dict_values([42])"
      ]
     },
     "execution_count": 5,
     "metadata": {},
     "output_type": "execute_result"
    }
   ],
   "source": [
    "my_dict.values()"
   ]
  },
  {
   "cell_type": "code",
   "execution_count": 6,
   "id": "6ac7a857",
   "metadata": {},
   "outputs": [
    {
     "name": "stdout",
     "output_type": "stream",
     "text": [
      "The value is: 42\n"
     ]
    }
   ],
   "source": [
    "print(\"The value is: 42\")"
   ]
  },
  {
   "cell_type": "markdown",
   "id": "71f189b3",
   "metadata": {},
   "source": [
    "# 3. What is the most significant distinction between a dictionary and a list?"
   ]
  },
  {
   "cell_type": "code",
   "execution_count": 7,
   "id": "dc66b0eb",
   "metadata": {},
   "outputs": [
    {
     "name": "stdout",
     "output_type": "stream",
     "text": [
      "Dictionary has a key and value pair while list is a single array and list uses index to get the data while dictionary use the key to fetch it\n"
     ]
    }
   ],
   "source": [
    "print(\"Dictionary has a key and value pair while list is a single array and list uses index to get the data while dictionary use the key to fetch it\")"
   ]
  },
  {
   "cell_type": "markdown",
   "id": "5c26d25e",
   "metadata": {},
   "source": [
    "# 4. What happens if you try to access spam['foo'] if spam is {'bar': 100}?"
   ]
  },
  {
   "cell_type": "code",
   "execution_count": 8,
   "id": "658c550f",
   "metadata": {},
   "outputs": [],
   "source": [
    "spam = {'bar':100}"
   ]
  },
  {
   "cell_type": "code",
   "execution_count": 9,
   "id": "c0c619f8",
   "metadata": {},
   "outputs": [
    {
     "ename": "KeyError",
     "evalue": "'foo'",
     "output_type": "error",
     "traceback": [
      "\u001b[1;31m---------------------------------------------------------------------------\u001b[0m",
      "\u001b[1;31mKeyError\u001b[0m                                  Traceback (most recent call last)",
      "\u001b[1;32m~\\AppData\\Local\\Temp/ipykernel_3276/3999281786.py\u001b[0m in \u001b[0;36m<module>\u001b[1;34m\u001b[0m\n\u001b[1;32m----> 1\u001b[1;33m \u001b[0mspam\u001b[0m\u001b[1;33m[\u001b[0m\u001b[1;34m'foo'\u001b[0m\u001b[1;33m]\u001b[0m\u001b[1;33m\u001b[0m\u001b[1;33m\u001b[0m\u001b[0m\n\u001b[0m",
      "\u001b[1;31mKeyError\u001b[0m: 'foo'"
     ]
    }
   ],
   "source": [
    "spam['foo']"
   ]
  },
  {
   "cell_type": "code",
   "execution_count": 10,
   "id": "4a1fb5d8",
   "metadata": {},
   "outputs": [
    {
     "name": "stdout",
     "output_type": "stream",
     "text": [
      "It will throw above error as key 'foo' is missing in the dictionary\n"
     ]
    }
   ],
   "source": [
    "print(\"It will throw above error as key 'foo' is missing in the dictionary\")"
   ]
  },
  {
   "cell_type": "markdown",
   "id": "12069da8",
   "metadata": {},
   "source": [
    "# 5. If a dictionary is stored in spam, what is the difference between the expressions 'cat' in spam and 'cat' in spam.keys()?"
   ]
  },
  {
   "cell_type": "code",
   "execution_count": 14,
   "id": "d97c10c7",
   "metadata": {},
   "outputs": [],
   "source": [
    "spam = {'abc':1,2:'cat'}"
   ]
  },
  {
   "cell_type": "code",
   "execution_count": 15,
   "id": "ed019428",
   "metadata": {},
   "outputs": [
    {
     "data": {
      "text/plain": [
       "False"
      ]
     },
     "execution_count": 15,
     "metadata": {},
     "output_type": "execute_result"
    }
   ],
   "source": [
    "'cat' in spam"
   ]
  },
  {
   "cell_type": "code",
   "execution_count": 16,
   "id": "27ccd0f7",
   "metadata": {},
   "outputs": [
    {
     "data": {
      "text/plain": [
       "False"
      ]
     },
     "execution_count": 16,
     "metadata": {},
     "output_type": "execute_result"
    }
   ],
   "source": [
    "'cat' in spam.keys()"
   ]
  },
  {
   "cell_type": "code",
   "execution_count": 18,
   "id": "45df0266",
   "metadata": {},
   "outputs": [
    {
     "name": "stdout",
     "output_type": "stream",
     "text": [
      "The difference is 'in' will check for the key and not values in dictory\n"
     ]
    }
   ],
   "source": [
    "print(\"The difference is 'in' will check for the key and not values in dictory\")"
   ]
  },
  {
   "cell_type": "markdown",
   "id": "7f50ca35",
   "metadata": {},
   "source": [
    "# 6. If a dictionary is stored in spam, what is the difference between the expressions 'cat' in spam and 'cat' in spam.values()?"
   ]
  },
  {
   "cell_type": "code",
   "execution_count": 19,
   "id": "3f68ec52",
   "metadata": {},
   "outputs": [
    {
     "data": {
      "text/plain": [
       "True"
      ]
     },
     "execution_count": 19,
     "metadata": {},
     "output_type": "execute_result"
    }
   ],
   "source": [
    "'cat' in spam.values()"
   ]
  },
  {
   "cell_type": "code",
   "execution_count": 20,
   "id": "389d4774",
   "metadata": {},
   "outputs": [
    {
     "name": "stdout",
     "output_type": "stream",
     "text": [
      "The difference is 'in' will check for the key and not values in dictory\n"
     ]
    }
   ],
   "source": [
    "print(\"The difference is 'in' will check for the key and not values in dictory\")"
   ]
  },
  {
   "cell_type": "markdown",
   "id": "ee36adbc",
   "metadata": {},
   "source": [
    "# 7. What is a shortcut for the following code?\n",
    "if 'color' not in spam:\n",
    "spam['color'] = 'black'"
   ]
  },
  {
   "cell_type": "code",
   "execution_count": 26,
   "id": "09ad3fa1",
   "metadata": {},
   "outputs": [
    {
     "name": "stdout",
     "output_type": "stream",
     "text": [
      "spam['color'] = 'black'\n"
     ]
    }
   ],
   "source": [
    "print(\"spam['color'] = 'black'\")"
   ]
  },
  {
   "cell_type": "markdown",
   "id": "b367ad1b",
   "metadata": {},
   "source": [
    "# 8. How do you \"pretty print\" dictionary values using which module and function?"
   ]
  },
  {
   "cell_type": "code",
   "execution_count": 27,
   "id": "d5b3ac34",
   "metadata": {},
   "outputs": [],
   "source": [
    "my_dict = {'address': {'city': 'Lebsackbury',\n",
    "              'geo': {'lat': '-38.2386', 'lng': '57.2232'},\n",
    "              'street': 'Kattie Turnpike',\n",
    "              'suite': 'Suite 198',\n",
    "              'zipcode': '31428-2261'},\n",
    "  'company': {'bs': 'target end-to-end models',\n",
    "              'catchPhrase': 'Centralized empowering task-force',\n",
    "              'name': 'Hoeger LLC'},\n",
    "  'email': 'Rey.Padberg@karina.biz',\n",
    "  'id': 10,\n",
    "  'name': 'Clementina DuBuque',\n",
    "  'phone': '024-648-3804',\n",
    "  'username': 'Moriah.Stanton',\n",
    "  'website': 'ambrose.net'}"
   ]
  },
  {
   "cell_type": "code",
   "execution_count": 28,
   "id": "43d8f959",
   "metadata": {},
   "outputs": [
    {
     "data": {
      "text/plain": [
       "{'address': {'city': 'Lebsackbury',\n",
       "  'geo': {'lat': '-38.2386', 'lng': '57.2232'},\n",
       "  'street': 'Kattie Turnpike',\n",
       "  'suite': 'Suite 198',\n",
       "  'zipcode': '31428-2261'},\n",
       " 'company': {'bs': 'target end-to-end models',\n",
       "  'catchPhrase': 'Centralized empowering task-force',\n",
       "  'name': 'Hoeger LLC'},\n",
       " 'email': 'Rey.Padberg@karina.biz',\n",
       " 'id': 10,\n",
       " 'name': 'Clementina DuBuque',\n",
       " 'phone': '024-648-3804',\n",
       " 'username': 'Moriah.Stanton',\n",
       " 'website': 'ambrose.net'}"
      ]
     },
     "execution_count": 28,
     "metadata": {},
     "output_type": "execute_result"
    }
   ],
   "source": [
    "my_dict"
   ]
  },
  {
   "cell_type": "code",
   "execution_count": 29,
   "id": "7cdd4f42",
   "metadata": {},
   "outputs": [
    {
     "name": "stdout",
     "output_type": "stream",
     "text": [
      "{'address': {'city': 'Lebsackbury',\n",
      "             'geo': {'lat': '-38.2386', 'lng': '57.2232'},\n",
      "             'street': 'Kattie Turnpike',\n",
      "             'suite': 'Suite 198',\n",
      "             'zipcode': '31428-2261'},\n",
      " 'company': {'bs': 'target end-to-end models',\n",
      "             'catchPhrase': 'Centralized empowering task-force',\n",
      "             'name': 'Hoeger LLC'},\n",
      " 'email': 'Rey.Padberg@karina.biz',\n",
      " 'id': 10,\n",
      " 'name': 'Clementina DuBuque',\n",
      " 'phone': '024-648-3804',\n",
      " 'username': 'Moriah.Stanton',\n",
      " 'website': 'ambrose.net'}\n"
     ]
    }
   ],
   "source": [
    "from pprint import pp\n",
    "pp(my_dict)"
   ]
  },
  {
   "cell_type": "code",
   "execution_count": null,
   "id": "f0063d6b",
   "metadata": {},
   "outputs": [],
   "source": []
  }
 ],
 "metadata": {
  "kernelspec": {
   "display_name": "Python 3 (ipykernel)",
   "language": "python",
   "name": "python3"
  },
  "language_info": {
   "codemirror_mode": {
    "name": "ipython",
    "version": 3
   },
   "file_extension": ".py",
   "mimetype": "text/x-python",
   "name": "python",
   "nbconvert_exporter": "python",
   "pygments_lexer": "ipython3",
   "version": "3.9.7"
  }
 },
 "nbformat": 4,
 "nbformat_minor": 5
}
